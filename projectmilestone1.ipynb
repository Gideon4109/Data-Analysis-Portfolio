{
 "cells": [
  {
   "cell_type": "code",
   "execution_count": 47,
   "id": "b429b38f",
   "metadata": {},
   "outputs": [
    {
     "data": {
      "application/vnd.microsoft.datawrangler.viewer.v0+json": {
       "columns": [
        {
         "name": "index",
         "rawType": "object",
         "type": "string"
        },
        {
         "name": "OrderID",
         "rawType": "float64",
         "type": "float"
        },
        {
         "name": "Price",
         "rawType": "float64",
         "type": "float"
        },
        {
         "name": "Quantity",
         "rawType": "float64",
         "type": "float"
        }
       ],
       "ref": "8bacb15a-9a66-4e35-a02b-4d0a81de5853",
       "rows": [
        [
         "count",
         "15.0",
         "15.0",
         "15.0"
        ],
        [
         "mean",
         "1008.0",
         "55713.333333333336",
         "3.2666666666666666"
        ],
        [
         "std",
         "4.47213595499958",
         "104949.57882353838",
         "3.453086955726648"
        ],
        [
         "min",
         "1001.0",
         "300.0",
         "1.0"
        ],
        [
         "25%",
         "1004.5",
         "1200.0",
         "1.0"
        ],
        [
         "50%",
         "1008.0",
         "2200.0",
         "2.0"
        ],
        [
         "75%",
         "1011.5",
         "65000.0",
         "4.0"
        ],
        [
         "max",
         "1015.0",
         "350000.0",
         "12.0"
        ]
       ],
       "shape": {
        "columns": 3,
        "rows": 8
       }
      },
      "text/html": [
       "<div>\n",
       "<style scoped>\n",
       "    .dataframe tbody tr th:only-of-type {\n",
       "        vertical-align: middle;\n",
       "    }\n",
       "\n",
       "    .dataframe tbody tr th {\n",
       "        vertical-align: top;\n",
       "    }\n",
       "\n",
       "    .dataframe thead th {\n",
       "        text-align: right;\n",
       "    }\n",
       "</style>\n",
       "<table border=\"1\" class=\"dataframe\">\n",
       "  <thead>\n",
       "    <tr style=\"text-align: right;\">\n",
       "      <th></th>\n",
       "      <th>OrderID</th>\n",
       "      <th>Price</th>\n",
       "      <th>Quantity</th>\n",
       "    </tr>\n",
       "  </thead>\n",
       "  <tbody>\n",
       "    <tr>\n",
       "      <th>count</th>\n",
       "      <td>15.000000</td>\n",
       "      <td>15.000000</td>\n",
       "      <td>15.000000</td>\n",
       "    </tr>\n",
       "    <tr>\n",
       "      <th>mean</th>\n",
       "      <td>1008.000000</td>\n",
       "      <td>55713.333333</td>\n",
       "      <td>3.266667</td>\n",
       "    </tr>\n",
       "    <tr>\n",
       "      <th>std</th>\n",
       "      <td>4.472136</td>\n",
       "      <td>104949.578824</td>\n",
       "      <td>3.453087</td>\n",
       "    </tr>\n",
       "    <tr>\n",
       "      <th>min</th>\n",
       "      <td>1001.000000</td>\n",
       "      <td>300.000000</td>\n",
       "      <td>1.000000</td>\n",
       "    </tr>\n",
       "    <tr>\n",
       "      <th>25%</th>\n",
       "      <td>1004.500000</td>\n",
       "      <td>1200.000000</td>\n",
       "      <td>1.000000</td>\n",
       "    </tr>\n",
       "    <tr>\n",
       "      <th>50%</th>\n",
       "      <td>1008.000000</td>\n",
       "      <td>2200.000000</td>\n",
       "      <td>2.000000</td>\n",
       "    </tr>\n",
       "    <tr>\n",
       "      <th>75%</th>\n",
       "      <td>1011.500000</td>\n",
       "      <td>65000.000000</td>\n",
       "      <td>4.000000</td>\n",
       "    </tr>\n",
       "    <tr>\n",
       "      <th>max</th>\n",
       "      <td>1015.000000</td>\n",
       "      <td>350000.000000</td>\n",
       "      <td>12.000000</td>\n",
       "    </tr>\n",
       "  </tbody>\n",
       "</table>\n",
       "</div>"
      ],
      "text/plain": [
       "           OrderID          Price   Quantity\n",
       "count    15.000000      15.000000  15.000000\n",
       "mean   1008.000000   55713.333333   3.266667\n",
       "std       4.472136  104949.578824   3.453087\n",
       "min    1001.000000     300.000000   1.000000\n",
       "25%    1004.500000    1200.000000   1.000000\n",
       "50%    1008.000000    2200.000000   2.000000\n",
       "75%    1011.500000   65000.000000   4.000000\n",
       "max    1015.000000  350000.000000  12.000000"
      ]
     },
     "execution_count": 47,
     "metadata": {},
     "output_type": "execute_result"
    }
   ],
   "source": [
    "# import necessary libraries\n",
    "import pandas as pd\n",
    "\n",
    "# read the CSV file into a DataFrame\n",
    "file_path1 = \"/Users/GREATJOE COMPUTER/Contacts/Desktop/Data Science Project/NaijaCart_Sales_Data.csv\"\n",
    "df = pd.read_csv(file_path1)\n",
    "#df.head()\n",
    "#df.tail() \n",
    "df.describe() "
   ]
  },
  {
   "cell_type": "code",
   "execution_count": 48,
   "id": "26ca02c8",
   "metadata": {},
   "outputs": [
    {
     "data": {
      "application/vnd.microsoft.datawrangler.viewer.v0+json": {
       "columns": [
        {
         "name": "index",
         "rawType": "object",
         "type": "string"
        },
        {
         "name": "0",
         "rawType": "int64",
         "type": "integer"
        }
       ],
       "ref": "81571a71-468d-4366-a7e3-b7fe2233b2f2",
       "rows": [
        [
         "OrderID",
         "0"
        ],
        [
         "CustomerID",
         "3"
        ],
        [
         "Product_Name",
         "0"
        ],
        [
         "Product_Category",
         "0"
        ],
        [
         "Price",
         "0"
        ],
        [
         "Quantity",
         "0"
        ],
        [
         "OrderDate",
         "0"
        ],
        [
         "Country",
         "0"
        ]
       ],
       "shape": {
        "columns": 1,
        "rows": 8
       }
      },
      "text/plain": [
       "OrderID             0\n",
       "CustomerID          3\n",
       "Product_Name        0\n",
       "Product_Category    0\n",
       "Price               0\n",
       "Quantity            0\n",
       "OrderDate           0\n",
       "Country             0\n",
       "dtype: int64"
      ]
     },
     "execution_count": 48,
     "metadata": {},
     "output_type": "execute_result"
    }
   ],
   "source": [
    "# Check for missing values\n",
    "df.isnull().sum()\n",
    "#df.info()"
   ]
  },
  {
   "cell_type": "code",
   "execution_count": 49,
   "id": "8657140e",
   "metadata": {},
   "outputs": [
    {
     "name": "stdout",
     "output_type": "stream",
     "text": [
      "<class 'pandas.core.frame.DataFrame'>\n",
      "RangeIndex: 12 entries, 0 to 11\n",
      "Data columns (total 8 columns):\n",
      " #   Column            Non-Null Count  Dtype \n",
      "---  ------            --------------  ----- \n",
      " 0   OrderID           12 non-null     int64 \n",
      " 1   CustomerID        12 non-null     object\n",
      " 2   Product_Name      12 non-null     object\n",
      " 3   Product_Category  12 non-null     object\n",
      " 4   Price             12 non-null     int64 \n",
      " 5   Quantity          12 non-null     int64 \n",
      " 6   OrderDate         12 non-null     object\n",
      " 7   Country           12 non-null     object\n",
      "dtypes: int64(3), object(5)\n",
      "memory usage: 900.0+ bytes\n"
     ]
    }
   ],
   "source": [
    "# Remove rows with missing values\n",
    "clean_data = df.dropna()\n",
    "clean_data = clean_data.reset_index(drop=True)\n",
    "clean_data.info()\n",
    "#print(clean_data.shape)\n",
    "#print(clean_data.isnull())\n",
    "#clean_data.describe()"
   ]
  },
  {
   "cell_type": "code",
   "execution_count": 50,
   "id": "76298421",
   "metadata": {},
   "outputs": [
    {
     "data": {
      "application/vnd.microsoft.datawrangler.viewer.v0+json": {
       "columns": [
        {
         "name": "index",
         "rawType": "int64",
         "type": "integer"
        },
        {
         "name": "OrderID",
         "rawType": "int64",
         "type": "integer"
        },
        {
         "name": "CustomerID",
         "rawType": "object",
         "type": "string"
        },
        {
         "name": "Product_Name",
         "rawType": "object",
         "type": "string"
        },
        {
         "name": "Product_Category",
         "rawType": "object",
         "type": "string"
        },
        {
         "name": "Price",
         "rawType": "int64",
         "type": "integer"
        },
        {
         "name": "Quantity",
         "rawType": "int64",
         "type": "integer"
        },
        {
         "name": "OrderDate",
         "rawType": "object",
         "type": "string"
        },
        {
         "name": "Country",
         "rawType": "object",
         "type": "string"
        },
        {
         "name": "Total_Sales",
         "rawType": "int64",
         "type": "integer"
        }
       ],
       "ref": "59508d6b-fabc-43b2-8693-7b62bb5b21e5",
       "rows": [
        [
         "0",
         "1001",
         "C001",
         "Infinix Hot 10",
         "Electronics",
         "65000",
         "1",
         "2025-05-10",
         "Nigeria",
         "65000"
        ],
        [
         "1",
         "1002",
         "C002",
         "Dangote Sugar 1kg",
         "Groceries",
         "1200",
         "5",
         "2025-05-11",
         "Nigeria",
         "6000"
        ],
        [
         "2",
         "1004",
         "C003",
         "Samsung 40\" TV",
         "Electronics",
         "250000",
         "1",
         "2025-05-12",
         "Nigeria",
         "250000"
        ],
        [
         "3",
         "1005",
         "C001",
         "Indomie Noodles Carton",
         "Groceries",
         "8000",
         "1",
         "2025-05-13",
         "Nigeria",
         "8000"
        ],
        [
         "4",
         "1006",
         "C004",
         "Peak Milk Tin",
         "Beverages",
         "800",
         "10",
         "2025-05-13",
         "Nigeria",
         "8000"
        ]
       ],
       "shape": {
        "columns": 9,
        "rows": 5
       }
      },
      "text/html": [
       "<div>\n",
       "<style scoped>\n",
       "    .dataframe tbody tr th:only-of-type {\n",
       "        vertical-align: middle;\n",
       "    }\n",
       "\n",
       "    .dataframe tbody tr th {\n",
       "        vertical-align: top;\n",
       "    }\n",
       "\n",
       "    .dataframe thead th {\n",
       "        text-align: right;\n",
       "    }\n",
       "</style>\n",
       "<table border=\"1\" class=\"dataframe\">\n",
       "  <thead>\n",
       "    <tr style=\"text-align: right;\">\n",
       "      <th></th>\n",
       "      <th>OrderID</th>\n",
       "      <th>CustomerID</th>\n",
       "      <th>Product_Name</th>\n",
       "      <th>Product_Category</th>\n",
       "      <th>Price</th>\n",
       "      <th>Quantity</th>\n",
       "      <th>OrderDate</th>\n",
       "      <th>Country</th>\n",
       "      <th>Total_Sales</th>\n",
       "    </tr>\n",
       "  </thead>\n",
       "  <tbody>\n",
       "    <tr>\n",
       "      <th>0</th>\n",
       "      <td>1001</td>\n",
       "      <td>C001</td>\n",
       "      <td>Infinix Hot 10</td>\n",
       "      <td>Electronics</td>\n",
       "      <td>65000</td>\n",
       "      <td>1</td>\n",
       "      <td>2025-05-10</td>\n",
       "      <td>Nigeria</td>\n",
       "      <td>65000</td>\n",
       "    </tr>\n",
       "    <tr>\n",
       "      <th>1</th>\n",
       "      <td>1002</td>\n",
       "      <td>C002</td>\n",
       "      <td>Dangote Sugar 1kg</td>\n",
       "      <td>Groceries</td>\n",
       "      <td>1200</td>\n",
       "      <td>5</td>\n",
       "      <td>2025-05-11</td>\n",
       "      <td>Nigeria</td>\n",
       "      <td>6000</td>\n",
       "    </tr>\n",
       "    <tr>\n",
       "      <th>2</th>\n",
       "      <td>1004</td>\n",
       "      <td>C003</td>\n",
       "      <td>Samsung 40\" TV</td>\n",
       "      <td>Electronics</td>\n",
       "      <td>250000</td>\n",
       "      <td>1</td>\n",
       "      <td>2025-05-12</td>\n",
       "      <td>Nigeria</td>\n",
       "      <td>250000</td>\n",
       "    </tr>\n",
       "    <tr>\n",
       "      <th>3</th>\n",
       "      <td>1005</td>\n",
       "      <td>C001</td>\n",
       "      <td>Indomie Noodles Carton</td>\n",
       "      <td>Groceries</td>\n",
       "      <td>8000</td>\n",
       "      <td>1</td>\n",
       "      <td>2025-05-13</td>\n",
       "      <td>Nigeria</td>\n",
       "      <td>8000</td>\n",
       "    </tr>\n",
       "    <tr>\n",
       "      <th>4</th>\n",
       "      <td>1006</td>\n",
       "      <td>C004</td>\n",
       "      <td>Peak Milk Tin</td>\n",
       "      <td>Beverages</td>\n",
       "      <td>800</td>\n",
       "      <td>10</td>\n",
       "      <td>2025-05-13</td>\n",
       "      <td>Nigeria</td>\n",
       "      <td>8000</td>\n",
       "    </tr>\n",
       "  </tbody>\n",
       "</table>\n",
       "</div>"
      ],
      "text/plain": [
       "   OrderID CustomerID            Product_Name Product_Category   Price  \\\n",
       "0     1001       C001          Infinix Hot 10      Electronics   65000   \n",
       "1     1002       C002       Dangote Sugar 1kg        Groceries    1200   \n",
       "2     1004       C003          Samsung 40\" TV      Electronics  250000   \n",
       "3     1005       C001  Indomie Noodles Carton        Groceries    8000   \n",
       "4     1006       C004           Peak Milk Tin        Beverages     800   \n",
       "\n",
       "   Quantity   OrderDate  Country  Total_Sales  \n",
       "0         1  2025-05-10  Nigeria        65000  \n",
       "1         5  2025-05-11  Nigeria         6000  \n",
       "2         1  2025-05-12  Nigeria       250000  \n",
       "3         1  2025-05-13  Nigeria         8000  \n",
       "4        10  2025-05-13  Nigeria         8000  "
      ]
     },
     "execution_count": 50,
     "metadata": {},
     "output_type": "execute_result"
    }
   ],
   "source": [
    "# create a new column for total sales\n",
    "clean_data['Total_Sales'] = clean_data['Quantity'] * clean_data['Price']\n",
    "clean_data.head()"
   ]
  },
  {
   "cell_type": "code",
   "execution_count": 51,
   "id": "b0663b98",
   "metadata": {},
   "outputs": [
    {
     "name": "stdout",
     "output_type": "stream",
     "text": [
      "Grand Total Sales: 853100\n"
     ]
    }
   ],
   "source": [
    "# Calculate overall total sales\n",
    "grand_total = clean_data['Total_Sales'].sum()\n",
    "print(f\"Grand Total Sales: {grand_total}\")"
   ]
  },
  {
   "cell_type": "code",
   "execution_count": 52,
   "id": "62c7fddc",
   "metadata": {},
   "outputs": [
    {
     "name": "stdout",
     "output_type": "stream",
     "text": [
      "Average Total Sales: 71091.66666666667\n"
     ]
    }
   ],
   "source": [
    "# Calculate average total sales\n",
    "ave_total_sales = clean_data['Total_Sales'].mean()\n",
    "print(f\"Average Total Sales: {ave_total_sales}\")"
   ]
  },
  {
   "cell_type": "code",
   "execution_count": 53,
   "id": "4672ee3c",
   "metadata": {},
   "outputs": [
    {
     "name": "stdout",
     "output_type": "stream",
     "text": [
      "Product_Category\n",
      "Beverages      11\n",
      "Electronics     5\n",
      "Groceries      14\n",
      "Name: Quantity, dtype: int64\n"
     ]
    }
   ],
   "source": [
    "# Find the product category with the highest total sales\n",
    "product_category_sales = clean_data.groupby('Product_Category')['Quantity'].sum()\n",
    "print(product_category_sales)"
   ]
  },
  {
   "cell_type": "code",
   "execution_count": 54,
   "id": "7b65b1a5",
   "metadata": {},
   "outputs": [
    {
     "name": "stdout",
     "output_type": "stream",
     "text": [
      "Country\n",
      "Nigeria    350000\n",
      "Name: Total_Sales, dtype: int64\n"
     ]
    }
   ],
   "source": [
    "# Find the country with the highest total sales\n",
    "max_sales_country = clean_data.groupby('Country')['Total_Sales'].max()\n",
    "print(max_sales_country)"
   ]
  },
  {
   "cell_type": "code",
   "execution_count": 55,
   "id": "e910007d",
   "metadata": {},
   "outputs": [
    {
     "name": "stdout",
     "output_type": "stream",
     "text": [
      "Product_Name\n",
      "LG Refrigerator              350000\n",
      "Samsung 40\" TV               250000\n",
      "Infinix Hot 10               130000\n",
      "Tecno Spark 8                 85000\n",
      "Golden Penny Semovita 2kg     11000\n",
      "Name: Total_Sales, dtype: int64\n"
     ]
    }
   ],
   "source": [
    "# Find the top 5 highest performing products\n",
    "highest_performing_product = clean_data.groupby('Product_Name')['Total_Sales'].sum().sort_values(ascending=False).head(5)\n",
    "print(highest_performing_product)"
   ]
  }
 ],
 "metadata": {
  "kernelspec": {
   "display_name": "Python 3",
   "language": "python",
   "name": "python3"
  },
  "language_info": {
   "codemirror_mode": {
    "name": "ipython",
    "version": 3
   },
   "file_extension": ".py",
   "mimetype": "text/x-python",
   "name": "python",
   "nbconvert_exporter": "python",
   "pygments_lexer": "ipython3",
   "version": "3.13.5"
  }
 },
 "nbformat": 4,
 "nbformat_minor": 5
}
